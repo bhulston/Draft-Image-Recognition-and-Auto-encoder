{
  "cells": [
    {
      "cell_type": "code",
      "execution_count": null,
      "metadata": {
        "id": "vvLnwWzsVoeC"
      },
      "outputs": [],
      "source": [
        "#To do list:\n",
        "  #organize this project a little more\n",
        "  #build my dense layer from scratch (in progress)\n",
        "  #compare models and find the best one and think about why it performed so well\n",
        "\n",
        "\n",
        "#https://analyticsindiamag.com/a-complete-understanding-of-dense-layers-in-neural-networks/#:~:text=Sign%20up-,What%20is%20a%20Dense%20Layer%3F,in%20artificial%20neural%20network%20networks."
      ]
    },
    {
      "cell_type": "markdown",
      "metadata": {
        "id": "XkuQ-9CupP_1"
      },
      "source": [
        "# Dense Layers - The most common of neural network layers\n",
        "\n",
        "*   Below, I also build my own dense layer from scratch\n",
        "\n",
        "\n"
      ]
    },
    {
      "cell_type": "markdown",
      "metadata": {
        "id": "NcgRNbz9Vpqw"
      },
      "source": [
        "# Most Basic Neural Network \n",
        "\n",
        "\n",
        "*   First, we start off with a single layer neural network, and we imporve and build on this throughout the document\n",
        "*   Use a sequential\n",
        "*   Only 1 layer with 1 node is needed\n",
        "*   Solve for the relationship between x and y\n",
        "\n"
      ]
    },
    {
      "cell_type": "code",
      "execution_count": null,
      "metadata": {
        "colab": {
          "base_uri": "https://localhost:8080/"
        },
        "id": "Wdt4wXSiV6mp",
        "outputId": "6528069e-0156-4166-af0d-5486eefb3e75"
      },
      "outputs": [
        {
          "name": "stdout",
          "output_type": "stream",
          "text": [
            "Looking in indexes: https://pypi.org/simple, https://us-python.pkg.dev/colab-wheels/public/simple/\n",
            "Requirement already satisfied: keras in /usr/local/lib/python3.7/dist-packages (2.9.0)\n"
          ]
        }
      ],
      "source": [
        "!pip install keras\n",
        "import keras\n",
        "\n",
        "from keras.models import Sequential\n",
        "from keras.layers import Dense, Dropout, Flatten, Conv2D, MaxPooling2D\n",
        "\n",
        "import numpy as np\n",
        "import pandas as pd"
      ]
    },
    {
      "cell_type": "code",
      "execution_count": null,
      "metadata": {
        "id": "ObwdE0_FG1BO"
      },
      "outputs": [],
      "source": [
        "#install mnist dataset and matplotlib to show data\n",
        "from keras.datasets import mnist\n",
        "\n",
        "import matplotlib.pyplot as plt\n",
        "%matplotlib inline\n",
        "  #magic function to show inline matplot libs\n"
      ]
    },
    {
      "cell_type": "code",
      "execution_count": null,
      "metadata": {
        "id": "kRwd2mufG-qE"
      },
      "outputs": [],
      "source": [
        "#load mnist dataset\n",
        "(x_train, y_train), (x_test, y_test) = mnist.load_data()"
      ]
    },
    {
      "cell_type": "code",
      "execution_count": null,
      "metadata": {
        "colab": {
          "base_uri": "https://localhost:8080/",
          "height": 778
        },
        "id": "Yi6oYf62HGXH",
        "outputId": "9f37daf3-a285-4f1a-f18c-c33b046c2a36"
      },
      "outputs": [
        {
          "name": "stdout",
          "output_type": "stream",
          "text": [
            "[5 0 4]\n"
          ]
        },
        {
          "data": {
            "image/png": "[encoded data removed]",
            "text/plain": [
              "<Figure size 432x288 with 1 Axes>"
            ]
          },
          "metadata": {},
          "output_type": "display_data"
        },
        {
          "data": {
            "image/png": "[encoded data removed]",
            "text/plain": [
              "<Figure size 432x288 with 1 Axes>"
            ]
          },
          "metadata": {},
          "output_type": "display_data"
        },
        {
          "data": {
            "image/png": "[encoded data removed]",
            "text/plain": [
              "<Figure size 432x288 with 1 Axes>"
            ]
          },
          "metadata": {},
          "output_type": "display_data"
        }
      ],
      "source": [
        "image_index = 2\n",
        "print(y_train[:image_index+1]) #y contains the label of the picture (if it is a 1 or 2 etc.)\n",
        "\n",
        "for i in range(image_index+1):\n",
        "  plt.imshow(x_train[i], cmap = 'Greys') #x is the container of the pictures\n",
        "    #imshow reads the data as an encoded image and turns data into images\n",
        "  plt.show()\n"
      ]
    },
    {
      "cell_type": "code",
      "execution_count": null,
      "metadata": {
        "colab": {
          "base_uri": "https://localhost:8080/"
        },
        "id": "fAVyNR5ZHVOq",
        "outputId": "2a664356-de81-4f0c-80b3-f610fa767443"
      },
      "outputs": [
        {
          "data": {
            "text/plain": [
              "(60000, 28, 28)"
            ]
          },
          "execution_count": 5,
          "metadata": {},
          "output_type": "execute_result"
        }
      ],
      "source": [
        "x_train.shape\n",
        "#shape returns with tuple of the dimensions\n",
        "\n",
        "#60,000 images that are 28 by 28 pixels\n"
      ]
    },
    {
      "cell_type": "code",
      "execution_count": null,
      "metadata": {
        "colab": {
          "base_uri": "https://localhost:8080/"
        },
        "id": "Yl2Gc91IHu89",
        "outputId": "471be9b9-9b0e-4f85-90e8-ea502b3006e4"
      },
      "outputs": [
        {
          "name": "stdout",
          "output_type": "stream",
          "text": [
            "[[  0   0   0   0   0   0   0   0   0   0   0   0   0   0   0   0   0   0\n",
            "    0   0   0   0   0   0   0   0   0   0]\n",
            " [  0   0   0   0   0   0   0   0   0   0   0   0   0   0   0   0   0   0\n",
            "    0   0   0   0   0   0   0   0   0   0]\n",
            " [  0   0   0   0   0   0   0   0   0   0   0   0   0   0   0   0   0   0\n",
            "    0   0   0   0   0   0   0   0   0   0]\n",
            " [  0   0   0   0   0   0   0   0   0   0   0   0   0   0   0   0   0   0\n",
            "    0   0   0   0   0   0   0   0   0   0]\n",
            " [  0   0   0   0   0   0   0   0   0   0   0   0   0   0   0   0   0   0\n",
            "    0   0   0   0   0   0   0   0   0   0]\n",
            " [  0   0   0   0   0   0   0   0   0   0   0   0   0   0   0   0   0   0\n",
            "    0   0  67 232  39   0   0   0   0   0]\n",
            " [  0   0   0   0  62  81   0   0   0   0   0   0   0   0   0   0   0   0\n",
            "    0   0 120 180  39   0   0   0   0   0]\n",
            " [  0   0   0   0 126 163   0   0   0   0   0   0   0   0   0   0   0   0\n",
            "    0   2 153 210  40   0   0   0   0   0]\n",
            " [  0   0   0   0 220 163   0   0   0   0   0   0   0   0   0   0   0   0\n",
            "    0  27 254 162   0   0   0   0   0   0]\n",
            " [  0   0   0   0 222 163   0   0   0   0   0   0   0   0   0   0   0   0\n",
            "    0 183 254 125   0   0   0   0   0   0]]\n"
          ]
        }
      ],
      "source": [
        "print(x_train[image_index][:10])\n",
        "#x_train[the 3rd picture in data][1st:10th row of arrays]\n",
        "  #each value in the list are 0-255 values of darkness because this dataset is monochromatic for cales 0 to 255\n",
        "  #28 x 28. 28 values per row that are 0-255\n"
      ]
    },
    {
      "cell_type": "code",
      "execution_count": null,
      "metadata": {
        "colab": {
          "base_uri": "https://localhost:8080/"
        },
        "id": "PSeTgBixIKPg",
        "outputId": "a9628695-56c8-48a7-e2db-994a65c16ed5"
      },
      "outputs": [
        {
          "data": {
            "text/plain": [
              "(60000, 784, 1)"
            ]
          },
          "execution_count": 67,
          "metadata": {},
          "output_type": "execute_result"
        }
      ],
      "source": [
        "#Data Cleaning - pre algorithm\n",
        "(x_train, y_train), (x_test, y_test) = mnist.load_data()\n",
        "  #reload data\n",
        "\n",
        "#save input image dimensions\n",
        "img_rows, img_cols = 28, 28 #dimensions of the images\n",
        "factorial = .99/255\n",
        "\n",
        "x_train = x_train.reshape(x_train.shape[0], img_rows * img_cols, 1).astype('float32') #why reshape with 1?\n",
        "x_test = x_test.reshape(x_test.shape[0], img_rows * img_cols, 1).astype('float32')\n",
        "\n",
        "x_train = x_train * factorial + 0.01\n",
        "x_test = x_test * factorial + 0.01\n",
        "\n",
        "x_train.shape\n",
        "#60,000 arrays where each array is made of 28 arrays (rows) where each array is another array of 28 (columns) singular values\n",
        "  #data is fed into the neural network like this to run better\n",
        "\n"
      ]
    },
    {
      "cell_type": "markdown",
      "metadata": {
        "id": "hgqTqtycLNHv"
      },
      "source": [
        "We standardize the values by multiply by 1/255\n",
        "\n",
        "However, we adjust this value to 0.99 and add the 0.01 later to prevent 0 values as inputs, which can prevent weight updates"
      ]
    },
    {
      "cell_type": "code",
      "execution_count": null,
      "metadata": {
        "colab": {
          "base_uri": "https://localhost:8080/"
        },
        "id": "ZVzr5wHDLp4I",
        "outputId": "87242486-097e-413a-b27c-e3754b0b1f6d"
      },
      "outputs": [
        {
          "name": "stdout",
          "output_type": "stream",
          "text": [
            "label:  0  in one-hot-encoding format:  [1 0 0 0 0 0 0 0 0 0]\n",
            "label:  1  in one-hot-encoding format:  [0 1 0 0 0 0 0 0 0 0]\n",
            "label:  2  in one-hot-encoding format:  [0 0 1 0 0 0 0 0 0 0]\n",
            "label:  3  in one-hot-encoding format:  [0 0 0 1 0 0 0 0 0 0]\n",
            "label:  4  in one-hot-encoding format:  [0 0 0 0 1 0 0 0 0 0]\n",
            "label:  5  in one-hot-encoding format:  [0 0 0 0 0 1 0 0 0 0]\n",
            "label:  6  in one-hot-encoding format:  [0 0 0 0 0 0 1 0 0 0]\n",
            "label:  7  in one-hot-encoding format:  [0 0 0 0 0 0 0 1 0 0]\n",
            "label:  8  in one-hot-encoding format:  [0 0 0 0 0 0 0 0 1 0]\n",
            "label:  9  in one-hot-encoding format:  [0 0 0 0 0 0 0 0 0 1]\n"
          ]
        },
        {
          "name": "stderr",
          "output_type": "stream",
          "text": [
            "/usr/local/lib/python3.7/dist-packages/ipykernel_launcher.py:6: DeprecationWarning: `np.int` is a deprecated alias for the builtin `int`. To silence this warning, use `int` by itself. Doing this will not modify any behavior and is safe. When replacing `np.int`, you may wish to use e.g. `np.int64` or `np.int32` to specify the precision. If you wish to review your current use, check the release note link for additional information.\n",
            "Deprecated in NumPy 1.20; for more details and guidance: https://numpy.org/devdocs/release/1.20.0-notes.html#deprecations\n",
            "  \n"
          ]
        }
      ],
      "source": [
        "#Now we want to one-hot encode the labels for more accurate results\n",
        "\n",
        "l = np.arange(10)\n",
        "\n",
        "for label in range(10):\n",
        "  one_hot = (label == l).astype(np.int)\n",
        "  print(\"label: \", label, \" in one-hot-encoding format: \", one_hot)"
      ]
    },
    {
      "cell_type": "code",
      "execution_count": null,
      "metadata": {
        "id": "N4uuzpg3Npce"
      },
      "outputs": [],
      "source": [
        "l = np.arange(10)\n",
        "y_train_one_hot = y_train.tolist()\n",
        "\n",
        "for i in range(len(y_train_one_hot)):\n",
        "  y_train_one_hot[i] = (l == y_train_one_hot[i]).astype(float).tolist()\n",
        "\n",
        "y_train_one_hot = np.asarray(y_train_one_hot)\n",
        "\n",
        "y_test_one_hot = y_test.tolist()\n",
        "\n",
        "for i in range(len(y_test_one_hot)):\n",
        "  y_test_one_hot[i] = (l == y_test_one_hot[i]).astype(float).tolist()\n",
        "\n",
        "y_test_one_hot = np.asarray(y_test_one_hot)\n",
        "\n",
        "y_train_one_hot[y_train_one_hot==0] = 0.01\n",
        "y_train_one_hot[y_train_one_hot==1] = 0.99\n",
        "\n",
        "y_test_one_hot[y_test_one_hot==0] = 0.01\n",
        "y_test_one_hot[y_test_one_hot==1] = 0.99\n",
        "\n"
      ]
    },
    {
      "cell_type": "code",
      "execution_count": null,
      "metadata": {
        "colab": {
          "background_save": true,
          "base_uri": "https://localhost:8080/"
        },
        "id": "WPGsNVM1V6v9",
        "outputId": "b9763324-c9fd-4601-9880-068c19477383"
      },
      "outputs": [
        {
          "name": "stdout",
          "output_type": "stream",
          "text": [
            "Epoch 1/2\n",
            "1875/1875 [==============================] - 4s 2ms/step - loss: 0.0890\n",
            "Epoch 2/2\n",
            "1875/1875 [==============================] - 3s 2ms/step - loss: 0.0870\n",
            "1875/1875 - 2s - loss: 0.0863 - 2s/epoch - 1ms/step\n",
            "0.08630917221307755\n"
          ]
        }
      ],
      "source": [
        "#xset = np.array([-2, -1, 0, 1, 2], dtype = float)\n",
        "#yset = np.array([-5, -3, -1, 1, 3], dtype = float)\n",
        "\n",
        "model = Sequential(\n",
        "    [\n",
        "        keras.layers.Input(shape= (784,)),\n",
        "        keras.layers.Dense(units=32, input_shape = (12,784,), activation = 'sigmoid', name = 'DenseLayer1'),\n",
        "            #a dense layer is the traditional layer you think of what with the many connections/the web (dense)\n",
        "        keras.layers.Dense(units=10,activation = 'softmax', name = 'OutputDense')\n",
        "\n",
        "    ]\n",
        ")\n",
        "\n",
        "model.compile(optimizer = 'sgd', loss = 'mean_squared_error')\n",
        "  #a stochastic gradient descent optimizer\n",
        "  #loss function is defined by mean_squared_error\n",
        "\n",
        "model.fit(x_train, y_train_one_hot, epochs = 2) #epochs is how many iterations\n",
        "\n",
        "print(model.evaluate(x_train, y_train_one_hot, verbose = 2))\n",
        "\n",
        "\n"
      ]
    },
    {
      "cell_type": "code",
      "execution_count": null,
      "metadata": {
        "colab": {
          "base_uri": "https://localhost:8080/",
          "height": 538
        },
        "id": "7DQm3NNydJjL",
        "outputId": "72c6413b-6ec5-495d-bd7e-b2bce3f53625"
      },
      "outputs": [
        {
          "name": "stdout",
          "output_type": "stream",
          "text": [
            "Model: \"sequential_51\"\n",
            "_________________________________________________________________\n",
            " Layer (type)                Output Shape              Param #   \n",
            "=================================================================\n",
            " DenseLayer1 (Dense)         (None, 32)                25120     \n",
            "                                                                 \n",
            " OutputDense (Dense)         (None, 10)                330       \n",
            "                                                                 \n",
            "=================================================================\n",
            "Total params: 25,450\n",
            "Trainable params: 25,450\n",
            "Non-trainable params: 0\n",
            "_________________________________________________________________\n"
          ]
        },
        {
          "data": {
            "image/png": "[encoded data removed]",
            "text/plain": [
              "<IPython.core.display.Image object>"
            ]
          },
          "execution_count": 88,
          "metadata": {},
          "output_type": "execute_result"
        }
      ],
      "source": [
        "model.summary()\n",
        "keras.utils.plot_model(model, \"my_first_model_with_shape_info.png\", show_shapes=True)"
      ]
    },
    {
      "cell_type": "code",
      "execution_count": null,
      "metadata": {
        "colab": {
          "base_uri": "https://localhost:8080/"
        },
        "id": "fMS3AlMYV61D",
        "outputId": "2661194e-d68e-487c-f017-467f64d4e07f"
      },
      "outputs": [
        {
          "data": {
            "text/plain": [
              "{'name': 'sequential_17',\n",
              " 'layers': [{'class_name': 'InputLayer',\n",
              "   'config': {'batch_input_shape': (None, 784),\n",
              "    'dtype': 'float32',\n",
              "    'sparse': False,\n",
              "    'ragged': False,\n",
              "    'name': 'DenseLayer1_input'}},\n",
              "  {'class_name': 'Dense',\n",
              "   'config': {'name': 'DenseLayer1',\n",
              "    'trainable': True,\n",
              "    'batch_input_shape': (None, 784),\n",
              "    'dtype': 'float32',\n",
              "    'units': 32,\n",
              "    'activation': 'sigmoid',\n",
              "    'use_bias': True,\n",
              "    'kernel_initializer': {'class_name': 'GlorotUniform',\n",
              "     'config': {'seed': None}},\n",
              "    'bias_initializer': {'class_name': 'Zeros', 'config': {}},\n",
              "    'kernel_regularizer': None,\n",
              "    'bias_regularizer': None,\n",
              "    'activity_regularizer': None,\n",
              "    'kernel_constraint': None,\n",
              "    'bias_constraint': None}},\n",
              "  {'class_name': 'Dense',\n",
              "   'config': {'name': 'dense_14',\n",
              "    'trainable': True,\n",
              "    'dtype': 'float32',\n",
              "    'units': 10,\n",
              "    'activation': 'softmax',\n",
              "    'use_bias': True,\n",
              "    'kernel_initializer': {'class_name': 'GlorotUniform',\n",
              "     'config': {'seed': None}},\n",
              "    'bias_initializer': {'class_name': 'Zeros', 'config': {}},\n",
              "    'kernel_regularizer': None,\n",
              "    'bias_regularizer': None,\n",
              "    'activity_regularizer': None,\n",
              "    'kernel_constraint': None,\n",
              "    'bias_constraint': None}}]}"
            ]
          },
          "execution_count": 119,
          "metadata": {},
          "output_type": "execute_result"
        }
      ],
      "source": [
        "model.get_config()"
      ]
    },
    {
      "cell_type": "code",
      "execution_count": null,
      "metadata": {
        "colab": {
          "base_uri": "https://localhost:8080/"
        },
        "id": "h7XSE-PQV63l",
        "outputId": "c42b5912-eb88-4155-e7cf-2bd35131f804"
      },
      "outputs": [
        {
          "name": "stdout",
          "output_type": "stream",
          "text": [
            "Model: \"sequential_1\"\n",
            "_________________________________________________________________\n",
            " Layer (type)                Output Shape              Param #   \n",
            "=================================================================\n",
            " DenseLayer1 (Dense)         (None, 1)                 2         \n",
            "                                                                 \n",
            "=================================================================\n",
            "Total params: 2\n",
            "Trainable params: 2\n",
            "Non-trainable params: 0\n",
            "_________________________________________________________________\n"
          ]
        }
      ],
      "source": [
        "model.summary()"
      ]
    },
    {
      "cell_type": "code",
      "execution_count": null,
      "metadata": {
        "id": "QEGV1A9dYwiG"
      },
      "outputs": [],
      "source": []
    },
    {
      "cell_type": "markdown",
      "metadata": {
        "id": "h2yNWPL5qvEe"
      },
      "source": [
        "# Now a slightly more complex Neural Network\n",
        "\n",
        "\n",
        "*   Built from a \"DAG\" point of view. We can add layers and nodes more explicitly as well\n",
        "*   Done with keras\n",
        "\n"
      ]
    },
    {
      "cell_type": "code",
      "execution_count": null,
      "metadata": {
        "colab": {
          "base_uri": "https://localhost:8080/"
        },
        "id": "K155ZSVNYwlF",
        "outputId": "920b5f4a-9db5-4a89-b43b-ae8aca57d9e7"
      },
      "outputs": [
        {
          "data": {
            "text/plain": [
              "TensorShape([None, None, 64, 784])"
            ]
          },
          "execution_count": 72,
          "metadata": {},
          "output_type": "execute_result"
        }
      ],
      "source": [
        "inputs = keras.Input(shape = (None, 64, 784))\n",
        "\n",
        "#for an image example only:\n",
        "#img_inputs = keras.Input(shape - (23,23,3))\n",
        "\n",
        "inputs.shape\n"
      ]
    },
    {
      "cell_type": "code",
      "execution_count": null,
      "metadata": {
        "colab": {
          "base_uri": "https://localhost:8080/"
        },
        "id": "4vmv2LwEq6ur",
        "outputId": "7a120e92-9b4f-4b12-e2d7-62de6da4485f"
      },
      "outputs": [
        {
          "data": {
            "text/plain": [
              "tf.float32"
            ]
          },
          "execution_count": 73,
          "metadata": {},
          "output_type": "execute_result"
        }
      ],
      "source": [
        "inputs.dtype"
      ]
    },
    {
      "cell_type": "code",
      "execution_count": null,
      "metadata": {
        "colab": {
          "base_uri": "https://localhost:8080/"
        },
        "id": "LDi-v9k5rQLi",
        "outputId": "98b3fcbb-7d9b-4b95-de6b-120c89ecacc6"
      },
      "outputs": [
        {
          "data": {
            "text/plain": [
              "<KerasTensor: shape=(None, None, 64, 64) dtype=float32 (created by layer 'DenseLayer1')>"
            ]
          },
          "execution_count": 74,
          "metadata": {},
          "output_type": "execute_result"
        }
      ],
      "source": [
        "dense = keras.layers.Dense(64, activation = \"relu\", name = \"DenseLayer1\") #relu activation just sets all negs to 0\n",
        "x = dense(inputs) #here we are telling keras to essentially connect our keras.Input object to the layer we built\n",
        "x #returns a Tensor object. "
      ]
    },
    {
      "cell_type": "code",
      "execution_count": null,
      "metadata": {
        "colab": {
          "base_uri": "https://localhost:8080/"
        },
        "id": "J9YMAh3GrQOL",
        "outputId": "244abe0c-6bdd-417c-d990-0873099f0794"
      },
      "outputs": [
        {
          "data": {
            "text/plain": [
              "<KerasTensor: shape=(None, None, 64, 10) dtype=float32 (created by layer 'OutputLayer')>"
            ]
          },
          "execution_count": 75,
          "metadata": {},
          "output_type": "execute_result"
        }
      ],
      "source": [
        "#add more layers\n",
        "\n",
        "x = keras.layers.Dense(64, activation = \"relu\", name = \"DenseLayer2\")(x)\n",
        "#this is a core, without the (x) at the end. Core must mean a solo layer with no connections\n",
        "outputs = keras.layers.Dense(10, name = \"OutputLayer\")(x) #10 outputs or categories\n",
        "outputs"
      ]
    },
    {
      "cell_type": "code",
      "execution_count": null,
      "metadata": {
        "id": "QgzUhreysQpg"
      },
      "outputs": [],
      "source": [
        "model = keras.Model(inputs=inputs, outputs=outputs, name=\"mnist_model\")"
      ]
    },
    {
      "cell_type": "code",
      "execution_count": null,
      "metadata": {
        "colab": {
          "base_uri": "https://localhost:8080/"
        },
        "id": "w84Xj30OsQvj",
        "outputId": "1c0df7e6-106a-433f-fa7c-460eaecf1d1a"
      },
      "outputs": [
        {
          "name": "stdout",
          "output_type": "stream",
          "text": [
            "Model: \"mnist_model\"\n",
            "_________________________________________________________________\n",
            " Layer (type)                Output Shape              Param #   \n",
            "=================================================================\n",
            " input_30 (InputLayer)       [(None, None, 64, 784)]   0         \n",
            "                                                                 \n",
            " DenseLayer1 (Dense)         (None, None, 64, 64)      50240     \n",
            "                                                                 \n",
            " DenseLayer2 (Dense)         (None, None, 64, 64)      4160      \n",
            "                                                                 \n",
            " OutputLayer (Dense)         (None, None, 64, 10)      650       \n",
            "                                                                 \n",
            "=================================================================\n",
            "Total params: 55,050\n",
            "Trainable params: 55,050\n",
            "Non-trainable params: 0\n",
            "_________________________________________________________________\n"
          ]
        }
      ],
      "source": [
        "model.summary()"
      ]
    },
    {
      "cell_type": "code",
      "execution_count": null,
      "metadata": {
        "colab": {
          "base_uri": "https://localhost:8080/",
          "height": 369
        },
        "id": "rPkb5moVsQzC",
        "outputId": "644ac047-aa11-4e6b-ca58-64e38ebddb6d"
      },
      "outputs": [
        {
          "data": {
            "image/png": "[encoded data removed]",
            "text/plain": [
              "<IPython.core.display.Image object>"
            ]
          },
          "execution_count": 78,
          "metadata": {},
          "output_type": "execute_result"
        }
      ],
      "source": [
        "keras.utils.plot_model(model, \"my_first_model.png\")"
      ]
    },
    {
      "cell_type": "code",
      "execution_count": null,
      "metadata": {
        "colab": {
          "base_uri": "https://localhost:8080/",
          "height": 422
        },
        "id": "NSIqXNk3tiqZ",
        "outputId": "32c50f9d-8e73-49a2-9028-f603e7e14827"
      },
      "outputs": [
        {
          "data": {
            "image/png": "[encoded data removed]",
            "text/plain": [
              "<IPython.core.display.Image object>"
            ]
          },
          "execution_count": 79,
          "metadata": {},
          "output_type": "execute_result"
        }
      ],
      "source": [
        "keras.utils.plot_model(model, \"my_first_model_with_shape_info.png\", show_shapes=True)"
      ]
    },
    {
      "cell_type": "markdown",
      "metadata": {
        "id": "4pxBPpIcCYHd"
      },
      "source": [
        "# Compile and test the model"
      ]
    },
    {
      "cell_type": "code",
      "execution_count": null,
      "metadata": {
        "colab": {
          "base_uri": "https://localhost:8080/"
        },
        "id": "o66wScCOtivo",
        "outputId": "f218bf23-dab4-45fa-988e-97cf44bee312"
      },
      "outputs": [
        {
          "name": "stdout",
          "output_type": "stream",
          "text": [
            "Epoch 1/2\n"
          ]
        },
        {
          "name": "stderr",
          "output_type": "stream",
          "text": [
            "WARNING:tensorflow:Model was constructed with shape (None, None, 64, 784) for input KerasTensor(type_spec=TensorSpec(shape=(None, None, 64, 784), dtype=tf.float32, name='input_30'), name='input_30', description=\"created by layer 'input_30'\"), but it was called on an input with incompatible shape (64, 784).\n",
            "WARNING:tensorflow:Model was constructed with shape (None, None, 64, 784) for input KerasTensor(type_spec=TensorSpec(shape=(None, None, 64, 784), dtype=tf.float32, name='input_30'), name='input_30', description=\"created by layer 'input_30'\"), but it was called on an input with incompatible shape (64, 784).\n"
          ]
        },
        {
          "name": "stdout",
          "output_type": "stream",
          "text": [
            "739/750 [============================>.] - ETA: 0s - loss: 0.3610 - accuracy: 0.8977"
          ]
        },
        {
          "name": "stderr",
          "output_type": "stream",
          "text": [
            "WARNING:tensorflow:Model was constructed with shape (None, None, 64, 784) for input KerasTensor(type_spec=TensorSpec(shape=(None, None, 64, 784), dtype=tf.float32, name='input_30'), name='input_30', description=\"created by layer 'input_30'\"), but it was called on an input with incompatible shape (None, 784).\n"
          ]
        },
        {
          "name": "stdout",
          "output_type": "stream",
          "text": [
            "\b\b\b\b\b\b\b\b\b\b\b\b\b\b\b\b\b\b\b\b\b\b\b\b\b\b\b\b\b\b\b\b\b\b\b\b\b\b\b\b\b\b\b\b\b\b\b\b\b\b\b\b\b\b\b\b\b\b\b\b\b\b\b\b\b\b\b\b\b\b\b\b\b\b\b\b\b\b\b\b\b\b\b\b\r750/750 [==============================] - 3s 4ms/step - loss: 0.3590 - accuracy: 0.8982 - val_loss: 0.1917 - val_accuracy: 0.9455\n",
            "Epoch 2/2\n",
            "750/750 [==============================] - 3s 3ms/step - loss: 0.1703 - accuracy: 0.9494 - val_loss: 0.1351 - val_accuracy: 0.9606\n",
            "313/313 - 0s - loss: 0.1309 - accuracy: 0.9614 - 458ms/epoch - 1ms/step\n",
            "Test loss: 0.1309204399585724\n",
            "Test accuracy: 0.9613999724388123\n"
          ]
        }
      ],
      "source": [
        "(x_train, y_train), (x_test, y_test) = mnist.load_data() #load data\n",
        "\n",
        "x_train = x_train.reshape(60000, 784).astype(\"float32\") / 255 #reshape and cast to float\n",
        "x_test = x_test.reshape(10000, 784).astype(\"float32\") / 255\n",
        "\n",
        "model.compile(\n",
        "    loss=keras.losses.SparseCategoricalCrossentropy(from_logits=True), \n",
        "    optimizer=keras.optimizers.RMSprop(), \n",
        "    metrics=[\"accuracy\"],\n",
        ")\n",
        "\n",
        "history = model.fit(x_train, y_train, batch_size=64, epochs=2, validation_split=0.2)\n",
        "\n",
        "test_scores = model.evaluate(x_test, y_test, verbose=2)\n",
        "print(\"Test loss:\", test_scores[0])\n",
        "print(\"Test accuracy:\", test_scores[1])"
      ]
    },
    {
      "cell_type": "code",
      "execution_count": null,
      "metadata": {
        "id": "AU3Dg1NKKxZd"
      },
      "outputs": [],
      "source": []
    },
    {
      "cell_type": "code",
      "execution_count": null,
      "metadata": {
        "id": "-PcVRNrcuTeX"
      },
      "outputs": [],
      "source": [
        "#model.save(\"path_to_model\")\n",
        "#del model\n",
        "#recreate\n",
        "#model = keras.models.load_model(\"path_to_model\")"
      ]
    },
    {
      "cell_type": "code",
      "execution_count": null,
      "metadata": {
        "id": "s3CDVFSO_FUU"
      },
      "outputs": [],
      "source": []
    },
    {
      "cell_type": "code",
      "execution_count": null,
      "metadata": {
        "id": "f5NiytsvCG9D"
      },
      "outputs": [],
      "source": [
        "y = mnist.load_data()"
      ]
    },
    {
      "cell_type": "code",
      "execution_count": null,
      "metadata": {
        "id": "ZlOo0NDRCpNM"
      },
      "outputs": [],
      "source": []
    },
    {
      "cell_type": "code",
      "execution_count": null,
      "metadata": {
        "id": "Kiyl1B2NC0XY"
      },
      "outputs": [],
      "source": [
        "%matplotlib inline\n",
        "  #magic function to show inline matplot libs"
      ]
    },
    {
      "cell_type": "code",
      "execution_count": null,
      "metadata": {
        "id": "mA4KjZ9aC-j8"
      },
      "outputs": [],
      "source": [
        "import matplotlib.pyplot as plt\n",
        "\n",
        "image_index = 4\n",
        "print(y_train[image_index]) #y is the correct number\n",
        "\n",
        "for i in range(image_index+1):\n",
        "  plt.imshow(x_train[i], cmap = 'Greys') #x is the container of the pictures\n",
        "    #imshow reads the data as an encoded image and turns data into images\n",
        "  plt.show()\n"
      ]
    },
    {
      "cell_type": "code",
      "execution_count": null,
      "metadata": {
        "id": "tik7TShyC-qB"
      },
      "outputs": [],
      "source": [
        "x_train.shape\n",
        "#shape returns with tuple of the dimensions\n",
        "\n",
        "#60,000 images that are 28 by 28 pixels"
      ]
    },
    {
      "cell_type": "code",
      "execution_count": null,
      "metadata": {
        "id": "gXzMyHmcC-su"
      },
      "outputs": [],
      "source": [
        "print(x_train[image_index][23])\n",
        "#x_train[the number 3 pic][23rd row of arrays]\n",
        "  #each value in the list are 0-255 values of darkness because this dataset is monochromatic for cales 0 to 255\n"
      ]
    },
    {
      "cell_type": "code",
      "execution_count": null,
      "metadata": {
        "id": "yVLxBpBrGGt8"
      },
      "outputs": [],
      "source": [
        "print(y_train[:image_index + 1])"
      ]
    },
    {
      "cell_type": "code",
      "execution_count": null,
      "metadata": {
        "id": "O40-QS_rFMGu"
      },
      "outputs": [],
      "source": [
        "#Data Cleaning - pre algorithm\n",
        "(x_train, y_train), (x_test, y_test) = mnist.load_data()\n",
        "  #reload data\n",
        "\n",
        "#save input image dimensions\n",
        "img_rows, img_cols = 28, 28 #dimensions of the images\n",
        "\n",
        "x_train = x_train.reshape(x_train.shape[0], img_rows, img_cols, 1).astype('float32') #why reshape with 1?\n",
        "x_test = x_test.reshape(x_test.shape[0], img_rows, img_cols, 1).astype('float32')\n",
        "\n",
        "#generally add a .astype(\"float32\")"
      ]
    },
    {
      "cell_type": "code",
      "execution_count": null,
      "metadata": {
        "id": "Sw7BPkU6QLR2"
      },
      "outputs": [],
      "source": []
    },
    {
      "cell_type": "markdown",
      "metadata": {
        "id": "8liq7n9Qfhxo"
      },
      "source": [
        "# One more model, with normalization\n",
        "\n",
        "I normalize the values here to [0,-1] *at the input*\n",
        "\n",
        "Alternatively, I could normalize the values to [-1,1] or to the mean and std\n",
        "\n",
        "\n",
        "*   Really depends on the data and how the data should be viewed\n",
        "*   For example, here we normalize from 0 to -1 because we really just want to know the shape of the object, aka whether a pixel is black or white\n",
        "*   In another problem, maybe if color matters, it is better to normalize to the mean and std\n",
        "\n"
      ]
    },
    {
      "cell_type": "code",
      "execution_count": null,
      "metadata": {
        "id": "KXLj10ljFMUi"
      },
      "outputs": [],
      "source": [
        "x_train = x_train/255\n",
        "x_test = x_test/255"
      ]
    },
    {
      "cell_type": "code",
      "execution_count": null,
      "metadata": {
        "colab": {
          "base_uri": "https://localhost:8080/"
        },
        "id": "o0gm8IszG8xb",
        "outputId": "d570b87e-0885-4b8b-da38-7982f24c8e74"
      },
      "outputs": [
        {
          "data": {
            "text/plain": [
              "numpy.float32"
            ]
          },
          "execution_count": 128,
          "metadata": {},
          "output_type": "execute_result"
        }
      ],
      "source": [
        "type(x_train[10][10][1][0])\n",
        "#returns a float. Int divided by 255 turns into a float"
      ]
    },
    {
      "cell_type": "code",
      "execution_count": null,
      "metadata": {
        "id": "TO4rE28sG85i"
      },
      "outputs": [],
      "source": [
        "from keras.utils import to_categorical\n",
        "num_classes = 10\n",
        "\n",
        "y_train = to_categorical(y_train, num_classes)\n",
        "y_test = to_categorical(y_test, num_classes)\n",
        "\n",
        "  #turn values into categorical values rather than a continuous"
      ]
    },
    {
      "cell_type": "markdown",
      "metadata": {
        "id": "zLIvLvRkLRtN"
      },
      "source": [
        "**Modelling Time!**"
      ]
    },
    {
      "cell_type": "code",
      "execution_count": null,
      "metadata": {
        "id": "mEo1z-FsLPzO"
      },
      "outputs": [],
      "source": [
        "from keras.models import Sequential\n",
        "from keras.layers import Dense, Dropout, Flatten, Conv2D, MaxPooling2D\n"
      ]
    },
    {
      "cell_type": "markdown",
      "metadata": {
        "id": "JZApyg5IMi9h"
      },
      "source": [
        "A sequential model is a stack of layers where each layer has a single input and output\n",
        "\n",
        "An example:\n",
        "```\n",
        "model = keras.Sequential(\n",
        "    [\n",
        "        layers.Dense(2, activation=\"relu\", name=\"layer1\"),\n",
        "        layers.Dense(3, activation=\"relu\", name=\"layer2\"),\n",
        "        layers.Dense(4, name=\"layer3\"),\n",
        "    ]\n",
        ")\n",
        "```\n",
        "\n",
        "Note: If model or any layers in model have multiple inputs or outputs, a sequential model isn't appropriate."
      ]
    },
    {
      "cell_type": "code",
      "execution_count": null,
      "metadata": {
        "id": "Zh4u7yuzLP2Q"
      },
      "outputs": [],
      "source": [
        "model = Sequential() #create a sequential model, goes through layers sequentially\n",
        "\n",
        "model.add(Conv2D(32, kernel_size = (3,3), #area of pixels we actually scan over in a convolution. This outputs as a max value of the area as one value\n",
        "                 activation = 'relu', #rectified linear units. Max of a value or 0. \n",
        "                  #this is necessary because we need something that looks like a linear function, but is actually non-linear (since all negs are now 0)\n",
        "                  #Why do we need this? Is it because relu activation starts at 0 and goes up linearly. So larger blocks of lots of positive values are favored and recognized?\n",
        "                 input_shape= (img_rows, img_cols, 1))) #always needed if Conv2D is the first layer of a neural network\n",
        "model.add(Conv2D(64, (3,3), \n",
        "                 activation = 'relu')) \n",
        "#2nd convolution layer\n",
        "  #here we have 64 filters that the convolution layer learns from. Determines output as well\n",
        "  #filters come out as a size of (3,3)\n",
        "\n",
        "model.add(MaxPooling2D(pool_size = (2, 2)))\n",
        "#pooling layer can be used for edge recognition and others\n",
        "#there is also avg pooling but here we don't use that.\n",
        "\n",
        "#when using the \"valid\" padding option, has a spatial shape (number of rows or columns) of: output_shape = \n",
        "#math.floor((input_shape - pool_size) / strides) + 1 (when input_shape >= pool_size)The resulting output shape \n",
        "#when using the \"same\" padding option is: output_shape = math.floor((input_shape - 1) / strides) + 1\n",
        "\n",
        "#in example above, dense is the layer type.\n",
        "  #In my model, I am adding 2 Conv2D and one MaxPooling2D\n",
        "\n",
        "model.add(keras.layers.Dense(10, name = \"OutputLayer\"))\n",
        "\n",
        "model.add(layers.Activation('softmax'))"
      ]
    },
    {
      "cell_type": "code",
      "execution_count": null,
      "metadata": {
        "id": "y4wHRnaWSgie"
      },
      "outputs": [],
      "source": [
        "model = Sequential()\n",
        "model.add(Flatten(input_shape=x_train.shape[1:]))\n",
        "model.add(Dense(800, activation='relu'))\n",
        "model.add(Dropout(0.2))\n",
        "model.add(Dense(800, activation='relu'))\n",
        "model.add(Dropout(0.2))\n",
        "model.add(Dense(10, activation='softmax'))\n",
        "model.compile(loss='categorical_crossentropy', optimizer='sgd', metrics=['accuracy'])"
      ]
    },
    {
      "cell_type": "code",
      "execution_count": null,
      "metadata": {
        "colab": {
          "base_uri": "https://localhost:8080/",
          "height": 644
        },
        "id": "3K5bs9RuS_1C",
        "outputId": "47c6c486-b80b-4950-ea56-31961a9c5f9c"
      },
      "outputs": [
        {
          "data": {
            "image/png": "[encoded data removed]",
            "text/plain": [
              "<IPython.core.display.Image object>"
            ]
          },
          "execution_count": 115,
          "metadata": {},
          "output_type": "execute_result"
        }
      ],
      "source": [
        "\n",
        "model.compile(\n",
        "    loss = keras.losses.SparseCategoricalCrossentropy(from_logits=True),\n",
        "    optimizer='adam', \n",
        "    metrics=['accuracy', 'val_accuracy']\n",
        ")\n",
        "\n",
        "keras.utils.plot_model(model, \"my_first_model_with_shape_info.png\", show_shapes=True)"
      ]
    },
    {
      "cell_type": "code",
      "execution_count": null,
      "metadata": {
        "colab": {
          "base_uri": "https://localhost:8080/"
        },
        "id": "e9JGRAwrS_3d",
        "outputId": "14049bac-125d-4995-9208-54cf8f9f235e"
      },
      "outputs": [
        {
          "name": "stdout",
          "output_type": "stream",
          "text": [
            "1875/1875 [==============================] - 24s 13ms/step - loss: 0.6108 - accuracy: 0.8353\n",
            "313/313 - 1s - loss: 0.2896 - accuracy: 0.9193 - 1s/epoch - 5ms/step\n",
            "Test loss: 0.2896175980567932\n",
            "Test accuracy: 0.9193000197410583\n"
          ]
        }
      ],
      "source": [
        "\n",
        "history = model.fit(x_train, y_train)\n",
        "\n",
        "test_scores = model.evaluate(x_test, y_test, verbose=2)\n",
        "print(\"Test loss:\", test_scores[0])\n",
        "print(\"Test accuracy:\", test_scores[1])"
      ]
    },
    {
      "cell_type": "markdown",
      "metadata": {
        "id": "-Sv9gZAOxnnR"
      },
      "source": [
        "# 2D convolution neural network\n",
        "\n",
        "\n",
        "1.   Creates a convolution kernal that is wind with layer inputs, producing a tensor\n",
        "2.   A convolution is an integral that measures overlap as one function is shifted over another. \"Blends\"\n",
        "3.   It can be used with images for blurring, sharpening, edge detection etc.\n",
        "4.   Number of filters is a power of 2(4,8,16,32,64) and kernel size is generally (1,1), (3,3), ... (7,7) - must be odd\n",
        "5.   Strides is default as 1,1. We can make it 2,2 sometimes if we want to reduce output vol\n",
        "6.   Dilation_rate - used for high resolution images or when details matter. Or few parameters only. use_bias is default to true\n",
        "\n",
        "\n",
        "\n"
      ]
    },
    {
      "cell_type": "markdown",
      "metadata": {
        "id": "vwkXb8ZH2PIs"
      },
      "source": [
        "# 2D MaxPooling layer\n",
        "\n",
        "\n",
        "1.   Basically if there is a 4x4 image, we can look at a 2x2 filter\n",
        "2.   The filter is scanned and moves according to the \"strides\" input, basically reconstructing the image with less pixels, taking the max of values (hence the use for edge recognition or sharpening, or blurring)\n",
        "3.   Benefits: Reduces run time because it makes images smaller basically, and enhances features of image\n",
        "\n"
      ]
    },
    {
      "cell_type": "code",
      "execution_count": null,
      "metadata": {
        "id": "YaB7hcqCLP4o"
      },
      "outputs": [],
      "source": [
        "#https://www.geeksforgeeks.org/keras-conv2d-class/"
      ]
    },
    {
      "cell_type": "markdown",
      "metadata": {
        "id": "GuXCw_JLv3VK"
      },
      "source": [
        "#Autoencoder (good for larger data volume)\n",
        "\n",
        "\n",
        "*   Inputs and outputs are saved to variables while layers are overwritten\n",
        "*   Add the output of the encoder to the autoencoder to \"copy\" it over basically\n",
        "\n"
      ]
    },
    {
      "cell_type": "code",
      "execution_count": null,
      "metadata": {
        "colab": {
          "base_uri": "https://localhost:8080/",
          "height": 235
        },
        "id": "TeayI2P4tizc",
        "outputId": "d543d410-db99-4ddd-f698-767295a73483"
      },
      "outputs": [
        {
          "ename": "NameError",
          "evalue": "ignored",
          "output_type": "error",
          "traceback": [
            "\u001b[0;31m---------------------------------------------------------------------------\u001b[0m",
            "\u001b[0;31mNameError\u001b[0m                                 Traceback (most recent call last)",
            "\u001b[0;32m<ipython-input-1-2cda2c061782>\u001b[0m in \u001b[0;36m<module>\u001b[0;34m\u001b[0m\n\u001b[1;32m      4\u001b[0m \u001b[0;32mfrom\u001b[0m \u001b[0mkeras\u001b[0m \u001b[0;32mimport\u001b[0m \u001b[0mlayers\u001b[0m\u001b[0;34m\u001b[0m\u001b[0;34m\u001b[0m\u001b[0m\n\u001b[1;32m      5\u001b[0m \u001b[0;34m\u001b[0m\u001b[0m\n\u001b[0;32m----> 6\u001b[0;31m \u001b[0mencoder_input\u001b[0m \u001b[0;34m=\u001b[0m \u001b[0mkeras\u001b[0m\u001b[0;34m.\u001b[0m\u001b[0mInput\u001b[0m\u001b[0;34m(\u001b[0m\u001b[0mshape\u001b[0m\u001b[0;34m=\u001b[0m\u001b[0;34m(\u001b[0m\u001b[0;36m28\u001b[0m\u001b[0;34m,\u001b[0m \u001b[0;36m28\u001b[0m\u001b[0;34m,\u001b[0m \u001b[0;36m1\u001b[0m\u001b[0;34m)\u001b[0m\u001b[0;34m,\u001b[0m \u001b[0mname\u001b[0m\u001b[0;34m=\u001b[0m\u001b[0;34m\"img\"\u001b[0m\u001b[0;34m)\u001b[0m \u001b[0;31m#input is set as an image with 28 x 28 pixels. Really just input as data\u001b[0m\u001b[0;34m\u001b[0m\u001b[0;34m\u001b[0m\u001b[0m\n\u001b[0m\u001b[1;32m      7\u001b[0m \u001b[0mx\u001b[0m \u001b[0;34m=\u001b[0m \u001b[0mlayers\u001b[0m\u001b[0;34m.\u001b[0m\u001b[0mConv2D\u001b[0m\u001b[0;34m(\u001b[0m\u001b[0;36m16\u001b[0m\u001b[0;34m,\u001b[0m \u001b[0;36m3\u001b[0m\u001b[0;34m,\u001b[0m \u001b[0mactivation\u001b[0m\u001b[0;34m=\u001b[0m\u001b[0;34m\"relu\"\u001b[0m\u001b[0;34m)\u001b[0m\u001b[0;34m(\u001b[0m\u001b[0mencoder_input\u001b[0m\u001b[0;34m)\u001b[0m\u001b[0;34m\u001b[0m\u001b[0;34m\u001b[0m\u001b[0m\n\u001b[1;32m      8\u001b[0m \u001b[0mx\u001b[0m \u001b[0;34m=\u001b[0m \u001b[0mlayers\u001b[0m\u001b[0;34m.\u001b[0m\u001b[0mConv2D\u001b[0m\u001b[0;34m(\u001b[0m\u001b[0;36m32\u001b[0m\u001b[0;34m,\u001b[0m \u001b[0;36m3\u001b[0m\u001b[0;34m,\u001b[0m \u001b[0mactivation\u001b[0m\u001b[0;34m=\u001b[0m\u001b[0;34m\"relu\"\u001b[0m\u001b[0;34m)\u001b[0m\u001b[0;34m(\u001b[0m\u001b[0mx\u001b[0m\u001b[0;34m)\u001b[0m\u001b[0;34m\u001b[0m\u001b[0;34m\u001b[0m\u001b[0m\n",
            "\u001b[0;31mNameError\u001b[0m: name 'keras' is not defined"
          ]
        }
      ],
      "source": [
        "#https://towardsdatascience.com/auto-encoder-what-is-it-and-what-is-it-used-for-part-1-3e5c6f017726\n",
        "  #more on autoencoding and what that means and how it can be used\n",
        "\n",
        "from keras import layers\n",
        "\n",
        "#encode\n",
        "encoder_input = keras.Input(shape=(28, 28, 1), name=\"img\") #input is set as an image with 28 x 28 pixels. Really just input as data\n",
        "x = layers.Conv2D(16, 3, activation=\"relu\")(encoder_input)\n",
        "x = layers.Conv2D(32, 3, activation=\"relu\")(x)\n",
        "x = layers.MaxPooling2D(3)(x)\n",
        "x = layers.Conv2D(32, 3, activation=\"relu\")(x)\n",
        "x = layers.Conv2D(16, 3, activation=\"relu\")(x)\n",
        "encoder_output = layers.GlobalMaxPooling2D()(x)\n",
        "\n",
        "encoder = keras.Model(encoder_input, encoder_output, name=\"encoder\")\n",
        "encoder.summary()\n",
        "\n",
        "#decode\n",
        "x = layers.Reshape((4, 4, 1))(encoder_output) #this doesn't just recall the model, but also the outputs and weights\n",
        "x = layers.Conv2DTranspose(16, 3, activation=\"relu\")(x) #reverse of a Conv2D\n",
        "x = layers.Conv2DTranspose(32, 3, activation=\"relu\")(x)\n",
        "x = layers.UpSampling2D(3)(x) #reverse of a max pooling layer\n",
        "x = layers.Conv2DTranspose(16, 3, activation=\"relu\")(x)\n",
        "decoder_output = layers.Conv2DTranspose(1, 3, activation=\"relu\")(x)\n",
        "\n",
        "autoencoder = keras.Model(encoder_input, decoder_output, name=\"autoencoder\")\n",
        "autoencoder.summary()"
      ]
    }
  ],
  "metadata": {
    "colab": {
      "provenance": []
    },
    "kernelspec": {
      "display_name": "Python 3",
      "name": "python3"
    },
    "language_info": {
      "name": "python"
    }
  },
  "nbformat": 4,
  "nbformat_minor": 0
}